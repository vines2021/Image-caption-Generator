{
  "nbformat": 4,
  "nbformat_minor": 0,
  "metadata": {
    "colab": {
      "provenance": [],
      "authorship_tag": "ABX9TyNQOaOczQhIZbt6050z9ApO",
      "include_colab_link": true
    },
    "kernelspec": {
      "name": "python3",
      "display_name": "Python 3"
    },
    "language_info": {
      "name": "python"
    }
  },
  "cells": [
    {
      "cell_type": "markdown",
      "metadata": {
        "id": "view-in-github",
        "colab_type": "text"
      },
      "source": [
        "<a href=\"https://colab.research.google.com/github/vines2021/Image-caption-Generator/blob/main/Image_caption_Generator.ipynb\" target=\"_parent\"><img src=\"https://colab.research.google.com/assets/colab-badge.svg\" alt=\"Open In Colab\"/></a>"
      ]
    },
    {
      "cell_type": "code",
      "execution_count": 13,
      "metadata": {
        "colab": {
          "base_uri": "https://localhost:8080/",
          "height": 408
        },
        "id": "ddf7Mttyodx7",
        "outputId": "63111042-df79-461c-97ef-3e723458983b"
      },
      "outputs": [
        {
          "output_type": "stream",
          "name": "stderr",
          "text": [
            "[nltk_data] Downloading package punkt to /root/nltk_data...\n",
            "[nltk_data]   Package punkt is already up-to-date!\n"
          ]
        },
        {
          "output_type": "stream",
          "name": "stdout",
          "text": [
            "1/1 [==============================] - 2s 2s/step\n",
            "1/1 [==============================] - 0s 457ms/step\n"
          ]
        },
        {
          "output_type": "error",
          "ename": "NameError",
          "evalue": "ignored",
          "traceback": [
            "\u001b[0;31m---------------------------------------------------------------------------\u001b[0m",
            "\u001b[0;31mNameError\u001b[0m                                 Traceback (most recent call last)",
            "\u001b[0;32m<ipython-input-13-2b1f5ec96450>\u001b[0m in \u001b[0;36m<cell line: 90>\u001b[0;34m()\u001b[0m\n\u001b[1;32m     88\u001b[0m \u001b[0;31m# Test the model on an image\u001b[0m\u001b[0;34m\u001b[0m\u001b[0;34m\u001b[0m\u001b[0m\n\u001b[1;32m     89\u001b[0m \u001b[0mimage_path\u001b[0m \u001b[0;34m=\u001b[0m \u001b[0;34m(\u001b[0m\u001b[0;34m\"/content/WhatsApp Image 2023-04-24 at 16.53.55.jpg\"\u001b[0m\u001b[0;34m)\u001b[0m\u001b[0;34m\u001b[0m\u001b[0;34m\u001b[0m\u001b[0m\n\u001b[0;32m---> 90\u001b[0;31m \u001b[0mcaption\u001b[0m \u001b[0;34m=\u001b[0m \u001b[0mgenerate_caption\u001b[0m\u001b[0;34m(\u001b[0m\u001b[0mimage_path\u001b[0m\u001b[0;34m)\u001b[0m\u001b[0;34m\u001b[0m\u001b[0;34m\u001b[0m\u001b[0m\n\u001b[0m\u001b[1;32m     91\u001b[0m \u001b[0mprint\u001b[0m\u001b[0;34m(\u001b[0m\u001b[0mcaption\u001b[0m\u001b[0;34m)\u001b[0m\u001b[0;34m\u001b[0m\u001b[0;34m\u001b[0m\u001b[0m\n",
            "\u001b[0;32m<ipython-input-13-2b1f5ec96450>\u001b[0m in \u001b[0;36mgenerate_caption\u001b[0;34m(image_path)\u001b[0m\n\u001b[1;32m     69\u001b[0m \u001b[0;34m\u001b[0m\u001b[0m\n\u001b[1;32m     70\u001b[0m     \u001b[0;31m# Convert the index to the corresponding word\u001b[0m\u001b[0;34m\u001b[0m\u001b[0;34m\u001b[0m\u001b[0m\n\u001b[0;32m---> 71\u001b[0;31m     \u001b[0mpredicted_word\u001b[0m \u001b[0;34m=\u001b[0m \u001b[0mtokenizer\u001b[0m\u001b[0;34m.\u001b[0m\u001b[0mindex_word\u001b[0m\u001b[0;34m[\u001b[0m\u001b[0mpredicted_word_index\u001b[0m\u001b[0;34m]\u001b[0m\u001b[0;34m\u001b[0m\u001b[0;34m\u001b[0m\u001b[0m\n\u001b[0m\u001b[1;32m     72\u001b[0m \u001b[0;34m\u001b[0m\u001b[0m\n\u001b[1;32m     73\u001b[0m     \u001b[0;31m# Append the word to the caption\u001b[0m\u001b[0;34m\u001b[0m\u001b[0;34m\u001b[0m\u001b[0m\n",
            "\u001b[0;31mNameError\u001b[0m: name 'tokenizer' is not defined"
          ]
        }
      ],
      "source": [
        "# Import necessary libraries\n",
        "import tensorflow as tf\n",
        "import numpy as np\n",
        "import matplotlib.pyplot as plt\n",
        "from tensorflow.keras.applications.inception_v3 import InceptionV3\n",
        "from tensorflow.keras.preprocessing import image\n",
        "from tensorflow.keras.models import Model\n",
        "from tensorflow.keras.layers import Input, Dense, Dropout, Embedding, LSTM\n",
        "from tensorflow.keras.utils import to_categorical\n",
        "from tensorflow.keras.preprocessing.sequence import pad_sequences\n",
        "import nltk\n",
        "nltk.download(\"punkt\")\n",
        "\n",
        "\n",
        "\n",
        "# Define parameters\n",
        "embedding_size = 300\n",
        "vocab_size = 10000\n",
        "max_length = 40\n",
        "image_shape = (299, 299, 3)\n",
        "\n",
        "# Load InceptionV3 model\n",
        "image_model = InceptionV3(include_top=False, weights='imagenet')\n",
        "\n",
        "# Remove the last layer and add a new one\n",
        "new_input = Input(shape=image_shape)\n",
        "hidden_layer = image_model(new_input)\n",
        "hidden_layer = Dropout(0.5)(hidden_layer)\n",
        "hidden_layer = Dense(embedding_size, activation='relu')(hidden_layer)\n",
        "\n",
        "# Define the image model\n",
        "image_model = Model(inputs=new_input, outputs=hidden_layer)\n",
        "\n",
        "# Define the caption model\n",
        "input_layer = Input(shape=(max_length,))\n",
        "embedding_layer = Embedding(input_dim=vocab_size, output_dim=embedding_size)(input_layer)\n",
        "hidden_layer = LSTM(256)(embedding_layer)\n",
        "output_layer = Dense(vocab_size, activation='softmax')(hidden_layer)\n",
        "\n",
        "# Compile the caption model\n",
        "caption_model = Model(inputs=input_layer, outputs=output_layer)\n",
        "caption_model.compile(loss='categorical_crossentropy', optimizer='adam')\n",
        "\n",
        "# Define a function to generate captions for images\n",
        "def generate_caption(image_path):\n",
        "  # Load and preprocess the image\n",
        "  img = image.load_img(image_path, target_size=(image_shape[0], image_shape[1]))\n",
        "  img = image.img_to_array(img)\n",
        "  img = np.expand_dims(img, axis=0)\n",
        "  img = tf.keras.applications.inception_v3.preprocess_input(img)\n",
        "  \n",
        "  # Get the image features\n",
        "  image_features = image_model.predict(img)\n",
        "  \n",
        "  # Initialize the caption sequence\n",
        "  caption_input = np.zeros((1, max_length))\n",
        "  \n",
        "  # Initialize the caption\n",
        "  caption = []\n",
        "  \n",
        "  # Loop through the sequence and generate the next word\n",
        "  for i in range(max_length):\n",
        "    # Predict the next word\n",
        "    predicted_word = caption_model.predict(caption_input)\n",
        "    \n",
        "    # Get the index of the most likely word\n",
        "    predicted_word_index = np.argmax(predicted_word[0])\n",
        "  #  tokenizer= word_tokenize()\n",
        "    \n",
        "    # Convert the index to the corresponding word\n",
        "    predicted_word = tokenizer.index_word[predicted_word_index]\n",
        "    \n",
        "    # Append the word to the caption\n",
        "    caption.append(predicted_word)\n",
        "    \n",
        "    # Check for the end of the caption\n",
        "    if predicted_word == '<end>':\n",
        "      break\n",
        "      \n",
        "    # Update the input sequence\n",
        "    caption_input[0][i+1] = predicted_word_index\n",
        "  \n",
        "  # Join the words to form the final caption\n",
        "  final_caption = ' '.join(caption[1:-1])\n",
        "  \n",
        "  return final_caption\n",
        "  \n",
        "# Test the model on an image\n",
        "image_path = (\"/content/WhatsApp Image 2023-04-24 at 16.53.55.jpg\")\n",
        "caption = generate_caption(image_path)\n",
        "print(caption)\n"
      ]
    }
  ]
}